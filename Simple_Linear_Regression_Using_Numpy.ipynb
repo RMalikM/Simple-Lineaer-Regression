{
 "cells": [
  {
   "cell_type": "markdown",
   "id": "38caad8e",
   "metadata": {},
   "source": [
    "## In this Notebook we will implement simple linear regression from Scratch using NumPy\n",
    "\n",
    "\n",
    "\n",
    "### We will be working on employees salary data set to predict salary of an employee based on their years of experience."
   ]
  },
  {
   "cell_type": "markdown",
   "id": "efd161e1",
   "metadata": {},
   "source": [
    "### 1. Import required libraries"
   ]
  },
  {
   "cell_type": "code",
   "execution_count": 1,
   "id": "60acd65a",
   "metadata": {},
   "outputs": [],
   "source": [
    "import os \n",
    "import numpy as np\n",
    "import pandas as pd\n",
    "import seaborn as sns\n",
    "import matplotlib.pyplot as plt\n",
    "\n",
    "\n",
    "%matplotlib inline"
   ]
  },
  {
   "cell_type": "markdown",
   "id": "29d2b5c1",
   "metadata": {},
   "source": [
    "### 2. Load data"
   ]
  },
  {
   "cell_type": "code",
   "execution_count": 2,
   "id": "c53253cd",
   "metadata": {},
   "outputs": [],
   "source": [
    "# read csv data file with pandas\n",
    "df = pd.read_csv(\"data/Salary_data.csv\")"
   ]
  },
  {
   "cell_type": "markdown",
   "id": "64dbd433",
   "metadata": {},
   "source": [
    "### 3. Exploratory Data Analysis (EDA)"
   ]
  },
  {
   "cell_type": "code",
   "execution_count": 3,
   "id": "ffeaba27",
   "metadata": {},
   "outputs": [
    {
     "data": {
      "text/html": [
       "<div>\n",
       "<style scoped>\n",
       "    .dataframe tbody tr th:only-of-type {\n",
       "        vertical-align: middle;\n",
       "    }\n",
       "\n",
       "    .dataframe tbody tr th {\n",
       "        vertical-align: top;\n",
       "    }\n",
       "\n",
       "    .dataframe thead th {\n",
       "        text-align: right;\n",
       "    }\n",
       "</style>\n",
       "<table border=\"1\" class=\"dataframe\">\n",
       "  <thead>\n",
       "    <tr style=\"text-align: right;\">\n",
       "      <th></th>\n",
       "      <th>YearsExperience</th>\n",
       "      <th>Salary</th>\n",
       "    </tr>\n",
       "  </thead>\n",
       "  <tbody>\n",
       "    <tr>\n",
       "      <th>0</th>\n",
       "      <td>1.1</td>\n",
       "      <td>39343</td>\n",
       "    </tr>\n",
       "    <tr>\n",
       "      <th>1</th>\n",
       "      <td>1.3</td>\n",
       "      <td>46205</td>\n",
       "    </tr>\n",
       "    <tr>\n",
       "      <th>2</th>\n",
       "      <td>1.5</td>\n",
       "      <td>37731</td>\n",
       "    </tr>\n",
       "    <tr>\n",
       "      <th>3</th>\n",
       "      <td>2.0</td>\n",
       "      <td>43525</td>\n",
       "    </tr>\n",
       "    <tr>\n",
       "      <th>4</th>\n",
       "      <td>2.2</td>\n",
       "      <td>39891</td>\n",
       "    </tr>\n",
       "  </tbody>\n",
       "</table>\n",
       "</div>"
      ],
      "text/plain": [
       "   YearsExperience  Salary\n",
       "0              1.1   39343\n",
       "1              1.3   46205\n",
       "2              1.5   37731\n",
       "3              2.0   43525\n",
       "4              2.2   39891"
      ]
     },
     "execution_count": 3,
     "metadata": {},
     "output_type": "execute_result"
    }
   ],
   "source": [
    "# Let's check few initial rows of the data\n",
    "df.head()"
   ]
  },
  {
   "cell_type": "markdown",
   "id": "5d2e8d32",
   "metadata": {},
   "source": [
    "##### As we can see, there are two columns in our dataset: \n",
    "* In the first column, We have years of experience of the employees.\n",
    "* In second column, We have salaries of the employees."
   ]
  },
  {
   "cell_type": "code",
   "execution_count": 4,
   "id": "e4591ab9",
   "metadata": {},
   "outputs": [
    {
     "name": "stdout",
     "output_type": "stream",
     "text": [
      "<class 'pandas.core.frame.DataFrame'>\n",
      "RangeIndex: 30 entries, 0 to 29\n",
      "Data columns (total 2 columns):\n",
      " #   Column           Non-Null Count  Dtype  \n",
      "---  ------           --------------  -----  \n",
      " 0   YearsExperience  30 non-null     float64\n",
      " 1   Salary           30 non-null     int64  \n",
      "dtypes: float64(1), int64(1)\n",
      "memory usage: 608.0 bytes\n"
     ]
    }
   ],
   "source": [
    "# Check data info\n",
    "df.info()"
   ]
  },
  {
   "cell_type": "code",
   "execution_count": 5,
   "id": "313754dc",
   "metadata": {},
   "outputs": [
    {
     "data": {
      "text/html": [
       "<div>\n",
       "<style scoped>\n",
       "    .dataframe tbody tr th:only-of-type {\n",
       "        vertical-align: middle;\n",
       "    }\n",
       "\n",
       "    .dataframe tbody tr th {\n",
       "        vertical-align: top;\n",
       "    }\n",
       "\n",
       "    .dataframe thead th {\n",
       "        text-align: right;\n",
       "    }\n",
       "</style>\n",
       "<table border=\"1\" class=\"dataframe\">\n",
       "  <thead>\n",
       "    <tr style=\"text-align: right;\">\n",
       "      <th></th>\n",
       "      <th>YearsExperience</th>\n",
       "      <th>Salary</th>\n",
       "    </tr>\n",
       "  </thead>\n",
       "  <tbody>\n",
       "    <tr>\n",
       "      <th>count</th>\n",
       "      <td>30.000000</td>\n",
       "      <td>30.000000</td>\n",
       "    </tr>\n",
       "    <tr>\n",
       "      <th>mean</th>\n",
       "      <td>5.313333</td>\n",
       "      <td>76003.000000</td>\n",
       "    </tr>\n",
       "    <tr>\n",
       "      <th>std</th>\n",
       "      <td>2.837888</td>\n",
       "      <td>27414.429785</td>\n",
       "    </tr>\n",
       "    <tr>\n",
       "      <th>min</th>\n",
       "      <td>1.100000</td>\n",
       "      <td>37731.000000</td>\n",
       "    </tr>\n",
       "    <tr>\n",
       "      <th>25%</th>\n",
       "      <td>3.200000</td>\n",
       "      <td>56720.750000</td>\n",
       "    </tr>\n",
       "    <tr>\n",
       "      <th>50%</th>\n",
       "      <td>4.700000</td>\n",
       "      <td>65237.000000</td>\n",
       "    </tr>\n",
       "    <tr>\n",
       "      <th>75%</th>\n",
       "      <td>7.700000</td>\n",
       "      <td>100544.750000</td>\n",
       "    </tr>\n",
       "    <tr>\n",
       "      <th>max</th>\n",
       "      <td>10.500000</td>\n",
       "      <td>122391.000000</td>\n",
       "    </tr>\n",
       "  </tbody>\n",
       "</table>\n",
       "</div>"
      ],
      "text/plain": [
       "       YearsExperience         Salary\n",
       "count        30.000000      30.000000\n",
       "mean          5.313333   76003.000000\n",
       "std           2.837888   27414.429785\n",
       "min           1.100000   37731.000000\n",
       "25%           3.200000   56720.750000\n",
       "50%           4.700000   65237.000000\n",
       "75%           7.700000  100544.750000\n",
       "max          10.500000  122391.000000"
      ]
     },
     "execution_count": 5,
     "metadata": {},
     "output_type": "execute_result"
    }
   ],
   "source": [
    "# Check some general descriptive statistics (e.g., central tendency, dispersion etc.)\n",
    "df.describe()"
   ]
  },
  {
   "cell_type": "code",
   "execution_count": 6,
   "id": "7fac7f0f",
   "metadata": {},
   "outputs": [
    {
     "data": {
      "text/plain": [
       "YearsExperience    0\n",
       "Salary             0\n",
       "dtype: int64"
      ]
     },
     "execution_count": 6,
     "metadata": {},
     "output_type": "execute_result"
    }
   ],
   "source": [
    "# Check for null or missing values\n",
    "df.isnull().sum()"
   ]
  },
  {
   "cell_type": "code",
   "execution_count": 7,
   "id": "a754f5b3",
   "metadata": {},
   "outputs": [
    {
     "data": {
      "image/png": "[encoded data removed]",
      "text/plain": [
       "<Figure size 864x360 with 2 Axes>"
      ]
     },
     "metadata": {
      "needs_background": "light"
     },
     "output_type": "display_data"
    }
   ],
   "source": [
    "# Check for outliers: using box plot\n",
    "fig,ax = plt.subplots(1, 2, figsize=(12,5))\n",
    "\n",
    "sns.boxplot(ax=ax[0], data=df['YearsExperience'])\n",
    "sns.boxplot(ax=ax[1], data=df['Salary'])\n",
    "\n",
    "ax[0].set_title('Box Plot - Years of Experience')\n",
    "ax[1].set_title('Box Plot - Salary')\n",
    "\n",
    "plt.show()"
   ]
  },
  {
   "cell_type": "markdown",
   "id": "b69db86b",
   "metadata": {},
   "source": [
    "#### Visualization"
   ]
  },
  {
   "cell_type": "markdown",
   "id": "da1fa962",
   "metadata": {},
   "source": [
    "#### 1. Histogram "
   ]
  },
  {
   "cell_type": "code",
   "execution_count": 8,
   "id": "a2d7512a",
   "metadata": {},
   "outputs": [
    {
     "data": {
      "image/png": "[encoded data removed]",
      "text/plain": [
       "<Figure size 432x432 with 1 Axes>"
      ]
     },
     "metadata": {
      "needs_background": "light"
     },
     "output_type": "display_data"
    }
   ],
   "source": [
    "plt.figure(figsize=(6,6))\n",
    "plt.hist(df['YearsExperience'], bins=12)\n",
    "plt.title('Histogram of Years of Experience')\n",
    "plt.xlabel('Years of Experience')\n",
    "plt.ylabel('Frequency')\n",
    "plt.show()"
   ]
  },
  {
   "cell_type": "code",
   "execution_count": 9,
   "id": "441d6c00",
   "metadata": {},
   "outputs": [
    {
     "data": {
      "image/png": "[encoded data removed]",
      "text/plain": [
       "<Figure size 432x432 with 1 Axes>"
      ]
     },
     "metadata": {
      "needs_background": "light"
     },
     "output_type": "display_data"
    }
   ],
   "source": [
    "plt.figure(figsize=(6,6))\n",
    "plt.hist(df['Salary'], bins=15)\n",
    "plt.title('Histogram of Salary')\n",
    "plt.xlabel('Salary')\n",
    "plt.ylabel('Frequency')\n",
    "plt.show()"
   ]
  },
  {
   "cell_type": "markdown",
   "id": "969ad508",
   "metadata": {},
   "source": [
    "#### 2. Scatter Plot"
   ]
  },
  {
   "cell_type": "code",
   "execution_count": 10,
   "id": "7cef718a",
   "metadata": {},
   "outputs": [
    {
     "data": {
      "image/png": "[encoded data removed]",
      "text/plain": [
       "<Figure size 432x432 with 1 Axes>"
      ]
     },
     "metadata": {
      "needs_background": "light"
     },
     "output_type": "display_data"
    }
   ],
   "source": [
    "plt.figure(figsize=(6,6))\n",
    "plt.scatter(df['YearsExperience'], df['Salary'])\n",
    "plt.title('Years of Experience vs. Salary')\n",
    "plt.xlabel('Years of Experience')\n",
    "plt.ylabel('Salary')\n",
    "\n",
    "plt.show()"
   ]
  },
  {
   "cell_type": "markdown",
   "id": "bf23fc2a",
   "metadata": {},
   "source": [
    "##### We can observe a sort of linear relationship between years of experience and salary of the employees."
   ]
  },
  {
   "cell_type": "markdown",
   "id": "54f14824",
   "metadata": {},
   "source": [
    "### 4. Model building"
   ]
  },
  {
   "cell_type": "code",
   "execution_count": 11,
   "id": "d036fd43",
   "metadata": {},
   "outputs": [],
   "source": [
    "# Define simple linear regression class\n",
    "class Simple_LR:\n",
    "    \n",
    "    def __init__(self):\n",
    "        self.slope = 0\n",
    "        self.intercept = 0\n",
    "        \n",
    "    def fit(self, X_train, y_train):\n",
    "        nr = 0\n",
    "        dr = 0\n",
    "        \n",
    "        for i in range(len(X_train)):\n",
    "            nr = nr + ((X_train[i] - X_train.mean()) * (y_train[i] - y_train.mean()))\n",
    "            dr = dr + ((X_train[i] - X_train.mean()) * (X_train[i] - X_train.mean()))\n",
    "        \n",
    "        # slope or regression coefficient\n",
    "        self.slope = nr / dr\n",
    "        \n",
    "        # intercept\n",
    "        self.intercept = y_train.mean() - (self.slope * X_train.mean())\n",
    "        \n",
    "        print('Regression coefficient: ', self.slope)\n",
    "        print('Intercept: ', self.intercept)\n",
    "        \n",
    "    def predict(self, X_test):            \n",
    "        return (self.intercept + (self.slope * X_test)).reshape(len(X_test,))            "
   ]
  },
  {
   "cell_type": "markdown",
   "id": "7de5a361",
   "metadata": {},
   "source": [
    "### 5. Create train and test sets"
   ]
  },
  {
   "cell_type": "code",
   "execution_count": 12,
   "id": "08fa7533",
   "metadata": {},
   "outputs": [],
   "source": [
    "## Train-test split without sklearn\n",
    "\n",
    "# Shuffle the dataset \n",
    "shuffle_df = df.sample(frac=1, random_state=2)\n",
    "\n",
    "# Define a size for the train set \n",
    "train_size = int(0.8 * len(df))\n",
    "\n",
    "# Train-test Split \n",
    "train_set = shuffle_df[:train_size]\n",
    "test_set = shuffle_df[train_size:]\n",
    "\n",
    "X_train = train_set.iloc[:, :-1].values\n",
    "y_train = train_set.iloc[:, -1].values\n",
    "\n",
    "X_test = test_set.iloc[:, :-1].values\n",
    "y_test = test_set.iloc[:, -1].values"
   ]
  },
  {
   "cell_type": "markdown",
   "id": "0422e176",
   "metadata": {},
   "source": [
    "### 6. Fit or train the model"
   ]
  },
  {
   "cell_type": "code",
   "execution_count": 13,
   "id": "18c8946d",
   "metadata": {},
   "outputs": [
    {
     "name": "stdout",
     "output_type": "stream",
     "text": [
      "Regression coefficient:  [9514.48910437]\n",
      "Intercept:  [26010.40665728]\n"
     ]
    }
   ],
   "source": [
    "# create simple linear regression class object and fit the data\n",
    "SLR = Simple_LR()\n",
    "SLR.fit(X_train, y_train)"
   ]
  },
  {
   "cell_type": "markdown",
   "id": "6198c115",
   "metadata": {},
   "source": [
    "### 7. Predict on test set"
   ]
  },
  {
   "cell_type": "code",
   "execution_count": 14,
   "id": "c8b201ea",
   "metadata": {},
   "outputs": [],
   "source": [
    "y_pred = SLR.predict(X_test)"
   ]
  },
  {
   "cell_type": "markdown",
   "id": "73fc0777",
   "metadata": {},
   "source": [
    "### 8. Plot the fitted line"
   ]
  },
  {
   "cell_type": "code",
   "execution_count": 15,
   "id": "04f76545",
   "metadata": {},
   "outputs": [
    {
     "data": {
      "image/png": "[encoded data removed]",
      "text/plain": [
       "<Figure size 432x288 with 1 Axes>"
      ]
     },
     "metadata": {
      "needs_background": "light"
     },
     "output_type": "display_data"
    }
   ],
   "source": [
    "# Training data\n",
    "plt.scatter(X_train,y_train,color=\"red\")\n",
    "plt.plot(X_train,SLR.predict(X_train),color=\"blue\")\n",
    "plt.title(\"Salary vs Experience: Train set\")\n",
    "plt.xlabel(\"Experience\")\n",
    "plt.ylabel(\"Salary\")\n",
    "plt.show()"
   ]
  },
  {
   "cell_type": "code",
   "execution_count": 16,
   "id": "1b66229b",
   "metadata": {},
   "outputs": [
    {
     "data": {
      "image/png": "[encoded data removed]",
      "text/plain": [
       "<Figure size 432x288 with 1 Axes>"
      ]
     },
     "metadata": {
      "needs_background": "light"
     },
     "output_type": "display_data"
    }
   ],
   "source": [
    "# Test data\n",
    "plt.scatter(X_test,y_test,color=\"red\")\n",
    "plt.plot(X_test,y_pred,color=\"blue\")\n",
    "plt.title(\"Salary vs Experience: Test set\")\n",
    "plt.xlabel(\"Experience\")\n",
    "plt.ylabel(\"Salary\")\n",
    "plt.show()"
   ]
  },
  {
   "cell_type": "markdown",
   "id": "3459e3e8",
   "metadata": {},
   "source": [
    "### 9. Model Evaluation "
   ]
  },
  {
   "cell_type": "code",
   "execution_count": 17,
   "id": "e737f0b6",
   "metadata": {},
   "outputs": [],
   "source": [
    "''' Simple Linear Regression (SLR) Metrices: \n",
    "        * Mean absolute error (mae)\n",
    "        * Mean squared error (mse)\n",
    "        * R-squared (r2)\n",
    "    '''\n",
    "class slr_metrices:\n",
    "    \n",
    "    def __init__(self):\n",
    "        self.mae = float('inf')\n",
    "        self.mse = float('inf')\n",
    "        self.r2 = 0\n",
    "        \n",
    "    def MAE(self, y_true, y_pred):\n",
    "        self.mae = np.mean(np.abs(y_true - y_pred))\n",
    "        return self.mae\n",
    "    \n",
    "    def MSE(self, y_true, y_pred):\n",
    "        self.mse =  np.mean((y_true - y_pred)**2)\n",
    "        return self.mse\n",
    "        \n",
    "    def R_squared(self, y_true, y_pred):\n",
    "        y_true_mean = np.mean(y_true)\n",
    "        \n",
    "        ssr = np.sum((y_true - y_pred)**2)\n",
    "        ssm = np.sum((y_true - y_true_mean)**2)\n",
    "        self.r2 = 1 - (ssr/ssm)\n",
    "        return self.r2"
   ]
  },
  {
   "cell_type": "code",
   "execution_count": 18,
   "id": "61c6b653",
   "metadata": {},
   "outputs": [
    {
     "name": "stdout",
     "output_type": "stream",
     "text": [
      "Training results: \n",
      "\n",
      "Mean absolute error (MAE): 4471.642937823656\n",
      "Mean squared error (MSE): 29786367.705509532\n",
      "Root Mean squared error (RMSE): 5457.688861185615\n",
      "R-squared (r2): 0.960459425229006\n",
      "\n",
      "Test results: \n",
      "\n",
      "Mean absolute error (MAE): 5510.413034789554\n",
      "Mean squared error (MSE): 38945297.96251431\n",
      "Root Mean squared error (RMSE): 6240.616793435911\n",
      "R-squared (r2): 0.9365607982057418\n"
     ]
    }
   ],
   "source": [
    "## evaluate the model\n",
    "metrices = slr_metrices()\n",
    "\n",
    "# On training data\n",
    "y_pred_train = SLR.predict(X_train)\n",
    "\n",
    "print('Training results: \\n')\n",
    "print('Mean absolute error (MAE):', metrices.MAE(y_train, y_pred_train))\n",
    "print('Mean squared error (MSE):', metrices.MSE(y_train, y_pred_train))\n",
    "print('Root Mean squared error (RMSE):', np.sqrt(metrices.MSE(y_train, y_pred_train)))\n",
    "print('R-squared (r2):', metrices.R_squared(y_train, y_pred_train))\n",
    "\n",
    "# On test data\n",
    "print('\\nTest results: \\n')\n",
    "print('Mean absolute error (MAE):', metrices.MAE(y_test, y_pred))\n",
    "print('Mean squared error (MSE):', metrices.MSE(y_test, y_pred))\n",
    "print('Root Mean squared error (RMSE):', np.sqrt(metrices.MSE(y_test, y_pred)))\n",
    "print('R-squared (r2):', metrices.R_squared(y_test, y_pred))"
   ]
  },
  {
   "cell_type": "markdown",
   "id": "7fba7eac",
   "metadata": {},
   "source": [
    "### 10. Save the trained model"
   ]
  },
  {
   "cell_type": "code",
   "execution_count": 19,
   "id": "ecde5d43",
   "metadata": {},
   "outputs": [],
   "source": [
    "from joblib import Parallel, delayed\n",
    "import joblib"
   ]
  },
  {
   "cell_type": "code",
   "execution_count": 20,
   "id": "9fadcbae",
   "metadata": {},
   "outputs": [
    {
     "data": {
      "text/plain": [
       "['trained_models\\\\Simple_LR_NumPy.pkl']"
      ]
     },
     "execution_count": 20,
     "metadata": {},
     "output_type": "execute_result"
    }
   ],
   "source": [
    "# Save the model as a pickle in a file\n",
    "joblib.dump(SLR, 'trained_models\\Simple_LR_NumPy.pkl')"
   ]
  },
  {
   "cell_type": "markdown",
   "id": "f0116d40",
   "metadata": {},
   "source": [
    "### 11. Load the saved model"
   ]
  },
  {
   "cell_type": "code",
   "execution_count": 21,
   "id": "f6915591",
   "metadata": {},
   "outputs": [],
   "source": [
    "# Load the model from the file\n",
    "model = joblib.load('trained_models\\Simple_LR_NumPy.pkl')"
   ]
  },
  {
   "cell_type": "markdown",
   "id": "658f495c",
   "metadata": {},
   "source": [
    "### 12. Make prediction on a new data point using the saved model"
   ]
  },
  {
   "cell_type": "code",
   "execution_count": 22,
   "id": "2ca34c48",
   "metadata": {},
   "outputs": [
    {
     "name": "stdout",
     "output_type": "stream",
     "text": [
      "Predicted salary for the employees with 2.4 years of experience is: 48845.1805077677\n"
     ]
    }
   ],
   "source": [
    "yr_exp = 2.4\n",
    "pred_salary = model.predict([[yr_exp]])\n",
    "print(f'Predicted salary for the employees with {yr_exp} years of experience is: {pred_salary[0]}')"
   ]
  }
 ],
 "metadata": {
  "kernelspec": {
   "display_name": "Python 3 (ipykernel)",
   "language": "python",
   "name": "python3"
  },
  "language_info": {
   "codemirror_mode": {
    "name": "ipython",
    "version": 3
   },
   "file_extension": ".py",
   "mimetype": "text/x-python",
   "name": "python",
   "nbconvert_exporter": "python",
   "pygments_lexer": "ipython3",
   "version": "3.8.0"
  }
 },
 "nbformat": 4,
 "nbformat_minor": 5
}
